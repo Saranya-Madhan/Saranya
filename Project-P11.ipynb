{
 "cells": [
  {
   "cell_type": "markdown",
   "id": "a3c0b895",
   "metadata": {},
   "source": [
    "# 1. Write a program to find out the Prime numbers."
   ]
  },
  {
   "cell_type": "code",
   "execution_count": 2,
   "id": "301d4313",
   "metadata": {},
   "outputs": [
    {
     "name": "stdout",
     "output_type": "stream",
     "text": [
      "Enter the Number : 4\n",
      "4 is not a Prime Number\n"
     ]
    }
   ],
   "source": [
    "# Getting input from the user\n",
    "mynum = int(input(\"Enter the Number : \"))\n",
    "                  \n",
    "if mynum > 1: # Prime numbers are always greater than 1,so here we checking the condition\n",
    "    for i in range(2,mynum):\n",
    "        if (mynum % i) == 0:\n",
    "            print(mynum,\"is not a Prime Number\")\n",
    "            break\n",
    "    else:\n",
    "        print(mynum,\"is a Prime Number\")\n",
    "\n",
    "# if mynum is less than or equal to 1, else part will execute\n",
    "else:\n",
    "    print(mynum,\"is not a Prime Number\")\n",
    "    \n",
    "                  \n",
    "                  "
   ]
  },
  {
   "cell_type": "markdown",
   "id": "7bd426f3",
   "metadata": {},
   "source": [
    "# 2. Write a program to create the equation (a+b+c) *  (a-b-c) * ab + a^2 + b ^2 + (abc)^3"
   ]
  },
  {
   "cell_type": "code",
   "execution_count": 3,
   "id": "2d04730f",
   "metadata": {},
   "outputs": [
    {
     "name": "stdout",
     "output_type": "stream",
     "text": [
      "Enter a value : 2\n",
      "Enter b value : 3\n",
      "Enter c value : 4\n",
      "The result of the equation is 13567\n"
     ]
    }
   ],
   "source": [
    "# Getting a,b,c value from the user\n",
    "\n",
    "a = int(input(\"Enter a value : \"))\n",
    "b = int(input(\"Enter b value : \"))\n",
    "c = int(input(\"Enter c value : \"))\n",
    "\n",
    "# Performing the equation\n",
    "equation = ( (a+b+c) * (a-b-c) * (a*b) + (a**2) + (b**2) + ((a*b*c)**3) )  \n",
    "\n",
    "# Printing the result\n",
    "print(\"The result of the equation is\",equation)"
   ]
  },
  {
   "cell_type": "markdown",
   "id": "a2d7b3c1",
   "metadata": {},
   "source": [
    "# 3. urlist = ['wood','knife','axe'] , mylist = ['tree', 'apple', 'mango', 'melon'] – combine two lists"
   ]
  },
  {
   "cell_type": "code",
   "execution_count": 13,
   "id": "5b4d20d6",
   "metadata": {},
   "outputs": [
    {
     "name": "stdout",
     "output_type": "stream",
     "text": [
      "['wood', 'knife', 'axe', 'tree', 'apple', 'mango', 'melon']\n"
     ]
    }
   ],
   "source": [
    "# Method 1 :\n",
    "\n",
    "urlist = ['wood','knife','axe']\n",
    "mylist = ['tree','apple','mango','melon']\n",
    "\n",
    "# Using extend method, we combine the two lists\n",
    "urlist.extend(mylist)\n",
    "\n",
    "# Assigning the combined two list to newlist and printing the newlist \n",
    "newlist = urlist\n",
    "print(newlist)"
   ]
  },
  {
   "cell_type": "code",
   "execution_count": 14,
   "id": "c70d9285",
   "metadata": {},
   "outputs": [
    {
     "name": "stdout",
     "output_type": "stream",
     "text": [
      "['wood', 'knife', 'axe', 'tree', 'apple', 'mango', 'melon']\n"
     ]
    }
   ],
   "source": [
    "# Method 2 :\n",
    "\n",
    "urlist = ['wood','knife','axe']\n",
    "mylist = ['tree','apple','mango','melon']\n",
    "\n",
    "# Using for loop, we combine two lists\n",
    "for i in range(len(mylist)):\n",
    "    urlist.append(mylist[i])\n",
    "    \n",
    "# Assigning the combined two list to newlist and printing the newlist\n",
    "    newlist = urlist\n",
    "print(newlist)"
   ]
  },
  {
   "cell_type": "markdown",
   "id": "2fe4bff1",
   "metadata": {},
   "source": [
    "# 4. Write a program for natural number based on user input"
   ]
  },
  {
   "cell_type": "code",
   "execution_count": 15,
   "id": "a4133afc",
   "metadata": {},
   "outputs": [
    {
     "name": "stdout",
     "output_type": "stream",
     "text": [
      "Enter the Number :14\n",
      "List of Natural numbers from 1 to 14\n",
      "1 2 3 4 5 6 7 8 9 10 11 12 13 14 "
     ]
    }
   ],
   "source": [
    "# Getting input from user\n",
    "user_input = int(input(\"Enter the Number :\"))\n",
    "\n",
    "print(\"List of Natural numbers from 1\",\"to\",user_input)\n",
    "\n",
    "# Using for loop, we printing the numbers from 1 to user_input\n",
    "for x in range(1,user_input+1):\n",
    "    \n",
    "    print(x, end = ' ')\n",
    "    "
   ]
  },
  {
   "cell_type": "markdown",
   "id": "269c45b3",
   "metadata": {},
   "source": [
    "# 5. Write class and function for the equation sqrt(x1-x2) ^ 2 + sqrt( y1 – y2 ) ^2 using try except handling"
   ]
  },
  {
   "cell_type": "code",
   "execution_count": 16,
   "id": "9fedd04c",
   "metadata": {},
   "outputs": [
    {
     "name": "stdout",
     "output_type": "stream",
     "text": [
      "The Result for the equation is 4.0\n"
     ]
    }
   ],
   "source": [
    "# For performing square and sqrt, we are importing the numpy\n",
    "import numpy as np\n",
    "\n",
    "# Creating class\n",
    "class Equ:\n",
    "    \n",
    "    def __init__(self,x1,x2,y1,y2):\n",
    "        self.x1 = x1\n",
    "        self.x2 = x2\n",
    "        self.y1 = y1\n",
    "        self.y2 = y2\n",
    "    \n",
    "    def equation(self):\n",
    "        x1_val = self.x1\n",
    "        x2_val = self.x2\n",
    "        y1_val = self.y1\n",
    "        y2_val = self.y2\n",
    "        \n",
    "        x_value = np.square(x1_val - x2_val)\n",
    "        y_value = np.square(y1_val - y2_val)\n",
    "        xsqrt = np.sqrt(x_value)\n",
    "        ysqrt = np.sqrt(y_value)\n",
    "\n",
    "        res = xsqrt + ysqrt\n",
    "        print(\"The Result for the equation is\",res)\n",
    "\n",
    "        \n",
    "# Creating objects\n",
    "\n",
    "try:\n",
    "    E1 = Equ(2,4,3,5) # Passing values here\n",
    "    E1.equation() # Calling the function\n",
    "\n",
    "# If any error occurs this except part will execute\n",
    "except:\n",
    "    print(\"Argument missing. Could not convert string to integer. Try again...\")\n",
    "    "
   ]
  },
  {
   "cell_type": "markdown",
   "id": "76e3616a",
   "metadata": {},
   "source": [
    "# 6. Name  = “Guvi python”  - Write a program to get “python” word from the string"
   ]
  },
  {
   "cell_type": "code",
   "execution_count": 17,
   "id": "73aa33c5",
   "metadata": {},
   "outputs": [
    {
     "name": "stdout",
     "output_type": "stream",
     "text": [
      "python\n"
     ]
    }
   ],
   "source": [
    "Name = \"Guvi python\"\n",
    "\n",
    "# Using removeprefix method in string operation, we remove the prefix from the given string\n",
    "print(Name.removeprefix(\"Guvi \"))"
   ]
  },
  {
   "cell_type": "markdown",
   "id": "d439a133",
   "metadata": {},
   "source": [
    "# 7.Using class and function - Write a program for palindrome Ex. Madam"
   ]
  },
  {
   "cell_type": "code",
   "execution_count": 19,
   "id": "93e1457c",
   "metadata": {},
   "outputs": [
    {
     "name": "stdout",
     "output_type": "stream",
     "text": [
      "Enter the value : madam\n",
      "Reversed value : madam\n",
      "madam is Palindrome\n"
     ]
    }
   ],
   "source": [
    "# Creating class\n",
    "\n",
    "class P_drome:\n",
    "    \n",
    "    def __init__(self,value):\n",
    "        self.val = value\n",
    "\n",
    "    def ispalindrome(self):\n",
    "        \n",
    "        val1 = self.val\n",
    "        \n",
    "        rev_val = \"\"\n",
    "        \n",
    "        for i in range(len(val1)-1,-1,-1): # this for loop will take the value from backward of string\n",
    "            rev_val = rev_val + val1[i]\n",
    "        print(\"Reversed value :\",rev_val)\n",
    "        \n",
    "        # Checking whether the given string and reversed string are equal or not\n",
    "        if val1 == rev_val:\n",
    "            print(val1,\"is Palindrome\")\n",
    "        else:\n",
    "            print(val1,\"is not Palindrome\")\n",
    "\n",
    "            \n",
    "# Creating the object\n",
    "\n",
    "# Getting input from the user\n",
    "user_input = input(\"Enter the value : \")\n",
    "\n",
    "# Passing argument\n",
    "check = P_drome(user_input)\n",
    "\n",
    "# Calling function\n",
    "check.ispalindrome()"
   ]
  },
  {
   "cell_type": "markdown",
   "id": "3f363c2d",
   "metadata": {},
   "source": [
    "# 8.Using file handling – Write a text file in ur system with “hello world”"
   ]
  },
  {
   "cell_type": "code",
   "execution_count": 20,
   "id": "a9d9fbb5",
   "metadata": {},
   "outputs": [],
   "source": [
    "with open(\"mytext1.txt\",'w') as f:\n",
    "\n",
    "# Using write method in file handling, I write my text \"hello world\" to mytext1.txt file\n",
    "    f.write(\"hello world\")"
   ]
  },
  {
   "cell_type": "markdown",
   "id": "e1383c90",
   "metadata": {},
   "source": [
    "# 9. Create Option button using tkinter GUI in python"
   ]
  },
  {
   "cell_type": "code",
   "execution_count": 1,
   "id": "4bf00fa1",
   "metadata": {},
   "outputs": [],
   "source": [
    "# For GUI in python, we are importing the package called tkinter\n",
    "from tkinter import *\n",
    "\n",
    "def sel():\n",
    "    #  To label on which option button we pressed, we are using label method\n",
    "   selection = \"You selected the Subject \" + str(var.get()) \n",
    "   label.config(text = selection)\n",
    "\n",
    "root = Tk()\n",
    "var = IntVar() \n",
    "\n",
    "# Option button which allows the user to choose (exactly) one of a predefined set of options\n",
    "\n",
    "# Here we assigning the text to option button and calling the function sel() and also passing the value\n",
    "R1 = Radiobutton(root, text=\"Maths\", variable=var, value=1,\n",
    "                  command=sel)\n",
    "R1.pack( anchor = W )\n",
    "\n",
    "R2 = Radiobutton(root, text=\"Science\", variable=var, value=2,\n",
    "                  command=sel)\n",
    "R2.pack( anchor = W )\n",
    "\n",
    "R3 = Radiobutton(root, text=\"Computer Science\", variable=var, value=3,\n",
    "                  command=sel)\n",
    "R3.pack( anchor = W)\n",
    "\n",
    "R4 = Radiobutton(root, text=\"Statistics\", variable=var, value=4,\n",
    "                  command=sel)\n",
    "R4.pack( anchor = W)\n",
    "\n",
    "R5 = Radiobutton(root, text=\"Financial Account\", variable=var, value=5,\n",
    "                  command=sel)\n",
    "R5.pack( anchor = W)\n",
    "\n",
    "\n",
    "label = Label(root)\n",
    "label.pack()\n",
    "root.mainloop()"
   ]
  },
  {
   "cell_type": "markdown",
   "id": "b30df9d2",
   "metadata": {},
   "source": [
    "# 10. Keep only numbers from the following String x = “ 89e9jcd^o38829@3%3,/mkl$w1"
   ]
  },
  {
   "cell_type": "code",
   "execution_count": 23,
   "id": "3dc09d08",
   "metadata": {},
   "outputs": [
    {
     "data": {
      "text/plain": [
       "['89', '9', '38829', '3', '3', '1']"
      ]
     },
     "execution_count": 23,
     "metadata": {},
     "output_type": "execute_result"
    }
   ],
   "source": [
    "# We use Regular Expression regex here. So we need to import re\n",
    "# Regular Expression is used for search pattern\n",
    "\n",
    "import re\n",
    "x = \"89e9jcd^o38829@3%3,/mkl$w1\"\n",
    "\n",
    "# To take only number digits we use the meta character \"\\d+\"\n",
    "regex = \"\\d+\"\n",
    "\n",
    "# We use the function findall in Regex\n",
    "# findall - return a list containing all matches\n",
    "re.findall(regex,x)"
   ]
  },
  {
   "cell_type": "code",
   "execution_count": null,
   "id": "a6265bad",
   "metadata": {},
   "outputs": [],
   "source": []
  }
 ],
 "metadata": {
  "kernelspec": {
   "display_name": "Python 3 (ipykernel)",
   "language": "python",
   "name": "python3"
  },
  "language_info": {
   "codemirror_mode": {
    "name": "ipython",
    "version": 3
   },
   "file_extension": ".py",
   "mimetype": "text/x-python",
   "name": "python",
   "nbconvert_exporter": "python",
   "pygments_lexer": "ipython3",
   "version": "3.9.13"
  }
 },
 "nbformat": 4,
 "nbformat_minor": 5
}
